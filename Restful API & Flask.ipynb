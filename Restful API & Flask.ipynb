{
 "cells": [
  {
   "cell_type": "markdown",
   "id": "538dc980-cb84-4f78-8611-f388eb858087",
   "metadata": {},
   "source": [
    "**Restful API & Flask Assignment**"
   ]
  },
  {
   "cell_type": "markdown",
   "id": "548f2448-1ba4-42fc-8971-8b4d160669f9",
   "metadata": {},
   "source": [
    "1. What is a RESTful API?\n",
    "> A RESTful API is a web service that follows REST architecture using HTTP methods to perform CRUD operations on resources.\n",
    "\n",
    "2. Explain the concept of API specification:\n",
    "  -  An API specification defines how clients can interact with an API, including endpoints, methods, request/response formats (e.g., OpenAPI/Swagger).\n",
    "\n",
    "3. What is Flask, and why is it popular for building APIs?\n",
    "   - Flask is a lightweight Python web framework. It's popular for APIs due to its simplicity, flexibility, and large ecosystem.\n",
    "\n",
    "4. What is routing in Flask?\n",
    "   - Routing maps URLs to Python functions using @app.route(). It defines how the application responds to client requests.\n",
    "\n"
   ]
  },
  {
   "cell_type": "markdown",
   "id": "da1c6315-1b11-4bda-a709-ed46079653cd",
   "metadata": {},
   "source": [
    "#Q5. How do you create a simple Flask application?\n",
    "\n",
    "from flask import Flask  \n",
    "app = Flask(__name__)  \n",
    "@app.route(\"/\")  \n",
    "def home():  \n",
    "    return \"Hello, Dear!\"  \n",
    "app.run()\n"
   ]
  },
  {
   "cell_type": "markdown",
   "id": "f616f5ae-34e5-4c8f-8543-ca359a07b491",
   "metadata": {},
   "source": [
    "6. What are HTTP methods used in RESTful APIs?\n",
    "   - Common methods: GET, POST, PUT, DELETE, PATCH — used to Read, Create, Update, Delete, and partially update resources.\n",
    "\n",
    "7. Purpose of @app.route() in Flask:\n",
    "   - It maps a specific URL to a function that returns a response for that route.\n",
    "\n",
    "8. Difference between GET and POST methods:\n",
    "   - GET retrieves data; POST sends data to create resources. GET is idempotent; POST is not.\n"
   ]
  },
  {
   "cell_type": "markdown",
   "id": "86e98f0d-12fc-4466-9f0f-be6a6427d8a5",
   "metadata": {},
   "source": [
    "#9. How do you handle errors in Flask APIs?\n",
    "   #Using try-except blocks or Flask’s errorhandler:\n",
    "\n",
    "@app.errorhandler(404)  \n",
    "def not_found(e): return \"Not Found\", 404\n"
   ]
  },
  {
   "cell_type": "raw",
   "id": "d19f3361-baab-4ba7-96d1-6d25fabafdf8",
   "metadata": {},
   "source": [
    "10. How to connect Flask to a SQL database?\n",
    "    Use Flask-SQLAlchemy to configure DB URI and define models. Example:\n",
    "\n",
    "app.config['SQLALCHEMY_DATABASE_URI'] = 'sqlite:///db.sqlite3'\n"
   ]
  },
  {
   "cell_type": "markdown",
   "id": "82cb9cd7-3d9d-4797-a525-b9ba39bd0e58",
   "metadata": {},
   "source": [
    "11. Role of Flask-SQLAlchemy:\n",
    "   - It simplifies database operations in Flask using ORM (Object Relational Mapping).\n",
    "\n",
    "12. What are Flask blueprints, and how are they useful?\n",
    "    - Blueprints allow modular application structure by grouping routes and logic into reusable components.\n",
    "\n",
    "13. Purpose of Flask’s request object:\n",
    "   - To access incoming request data like form data, JSON, headers, etc.\n",
    "\n"
   ]
  },
  {
   "cell_type": "markdown",
   "id": "14f10c97-88e2-49d0-b49f-2a9454141355",
   "metadata": {},
   "source": [
    "\n",
    "#14. How to create a RESTful API endpoint in Flask?\n",
    "\n",
    "@app.route('/api/data', methods=['GET'])  \n",
    "def get_data():  \n",
    "    return jsonify({\"msg\": \"Success\"})\n"
   ]
  },
  {
   "cell_type": "markdown",
   "id": "b6445ba9-d083-48a4-8a53-06188777ad47",
   "metadata": {},
   "source": [
    "15. Purpose of Flask's jsonify() function:\n",
    "   - It converts Python dictionaries into a JSON response with the correct MIME type.\n",
    "\n",
    "16. Explain Flask’s url\\_for() function:\n",
    "    - It generates URLs for routes dynamically, making code more maintainable.\n",
    "\n",
    "17. How does Flask handle static files?\n",
    "   - Flask automatically serves files from the /static/ directory using url\\_for('static', filename='...').\n",
    "\n",
    "18. What is an API specification, and how does it help in Flask?\n",
    "  -  It defines the structure of API endpoints, helping in consistent development and client integration.\n",
    "\n",
    "19. What are HTTP status codes, and why are they important?\n",
    "   - Status codes indicate the result of an HTTP request (e.g., 200 OK, 404 Not Found, 500 Server Error).\n",
    "\n"
   ]
  },
  {
   "cell_type": "markdown",
   "id": "6d3626a0-c968-4a0c-a6a5-e706bd3980b6",
   "metadata": {},
   "source": [
    "\n",
    "#20. How do you handle POST requests in Flask?\n",
    "    #Use request.form or request.json to get data:\n",
    "\n",
    "\n",
    "@app.route('/submit', methods=['POST'])  \n",
    "def submit():  \n",
    "    data = request.json  \n",
    "    return jsonify(data)\n"
   ]
  },
  {
   "cell_type": "markdown",
   "id": "871e4137-c8e4-48b1-9bc8-e63161174940",
   "metadata": {},
   "source": [
    "\n",
    "21. How would you secure a Flask API?\n",
    "   - Use authentication (JWT, API keys), HTTPS, input validation, and Flask extensions like Flask-JWT.\n",
    "\n",
    "22. What is the significance of Flask-RESTful extension?\n",
    "  -  It adds tools and classes to build REST APIs faster with resource-based routing and response handling.\n",
    "\n",
    "23. What is the role of Flask’s session object?\n",
    "   - It stores user-specific data across requests using secure cookies.\n",
    "\n"
   ]
  },
  {
   "cell_type": "markdown",
   "id": "ceee5842-f435-45a2-b43e-5371c36c67fe",
   "metadata": {},
   "source": [
    "**Practical question solution**"
   ]
  },
  {
   "cell_type": "code",
   "execution_count": 2,
   "id": "82066deb-f56e-4109-806b-e5b105181e5d",
   "metadata": {},
   "outputs": [
    {
     "name": "stdout",
     "output_type": "stream",
     "text": [
      " * Serving Flask app '__main__'\n",
      " * Debug mode: on\n"
     ]
    },
    {
     "name": "stderr",
     "output_type": "stream",
     "text": [
      "WARNING: This is a development server. Do not use it in a production deployment. Use a production WSGI server instead.\n",
      " * Running on http://127.0.0.1:5000\n",
      "Press CTRL+C to quit\n",
      " * Restarting with watchdog (windowsapi)\n"
     ]
    },
    {
     "ename": "SystemExit",
     "evalue": "1",
     "output_type": "error",
     "traceback": [
      "An exception has occurred, use %tb to see the full traceback.\n",
      "\u001b[1;31mSystemExit\u001b[0m\u001b[1;31m:\u001b[0m 1\n"
     ]
    },
    {
     "name": "stderr",
     "output_type": "stream",
     "text": [
      "C:\\Users\\Ritesh\\anaconda3\\Lib\\site-packages\\IPython\\core\\interactiveshell.py:3585: UserWarning: To exit: use 'exit', 'quit', or Ctrl-D.\n",
      "  warn(\"To exit: use 'exit', 'quit', or Ctrl-D.\", stacklevel=1)\n"
     ]
    }
   ],
   "source": [
    "# Q.1  How do you create a basic Flask application?\n",
    "\n",
    "from flask import Flask  \n",
    "app = Flask(__name__)  \n",
    "\n",
    "@app.route(\"/\")  \n",
    "def home():  \n",
    "    return \"Hello, Flask!\"  \n",
    "\n",
    "if __name__ == '__main__':\n",
    "    app.run(debug=True)\n"
   ]
  },
  {
   "cell_type": "raw",
   "id": "a3f39379-2e02-4bf5-baeb-692eeafbc0ca",
   "metadata": {},
   "source": [
    "# Q.2  How do you serve static files like images or CSS in Flask?\n",
    "\n",
    "<link rel=\"stylesheet\" href=\"{{ url_for('static', filename='style.css') }}\">\n",
    "<img src=\"{{ url_for('static', filename='image.png') }}\">\n",
    "\n"
   ]
  },
  {
   "cell_type": "code",
   "execution_count": 3,
   "id": "178d7e87-6018-48a1-bebe-283cb39605d9",
   "metadata": {},
   "outputs": [],
   "source": [
    "# Q.3  How do you define different routes with different HTTP methods in Flask?\n",
    "from flask import Flask, request  \n",
    "app = Flask(__name__)  \n",
    "\n",
    "@app.route('/submit', methods=['GET', 'POST'])  \n",
    "def submit():  \n",
    "    if request.method == 'POST':  \n",
    "        return \"Data submitted\"  \n",
    "    return \"Form page\"\n"
   ]
  },
  {
   "cell_type": "code",
   "execution_count": 4,
   "id": "3f02d95d-126a-4ab7-8385-50762656b5f4",
   "metadata": {},
   "outputs": [],
   "source": [
    "# Q.4  How do you render HTML templates in Flask?\n",
    "from flask import Flask, render_template  \n",
    "app = Flask(__name__)  \n",
    "\n",
    "@app.route('/about')  \n",
    "def about():  \n",
    "    return render_template('about.html')  # about.html should be inside the /templates folder\n"
   ]
  },
  {
   "cell_type": "code",
   "execution_count": 5,
   "id": "5e20844d-d241-4cf8-82e8-22c8339c7766",
   "metadata": {},
   "outputs": [],
   "source": [
    "# Q.5  How can you generate URLs for routes in Flask using url_for()?\n",
    "from flask import Flask, redirect, url_for  \n",
    "app = Flask(__name__)  \n",
    "\n",
    "@app.route('/home')  \n",
    "def home():  \n",
    "    return \"Home Page\"\n",
    "\n",
    "@app.route('/go-home')  \n",
    "def go_home():  \n",
    "    return redirect(url_for('home'))  # Dynamically creates URL for 'home'\n"
   ]
  },
  {
   "cell_type": "code",
   "execution_count": 6,
   "id": "5f178baa-22ae-44e6-b58e-39eb4250b9cb",
   "metadata": {},
   "outputs": [],
   "source": [
    "# Q.6  How do you handle forms in Flask?\n",
    "from flask import Flask, request  \n",
    "app = Flask(__name__)  \n",
    "\n",
    "@app.route('/form', methods=['GET', 'POST'])  \n",
    "def form():  \n",
    "    if request.method == 'POST':  \n",
    "        name = request.form['name']  \n",
    "        return f\"Hello, {name}\"  \n",
    "    return '''\n",
    "        <form method=\"post\">\n",
    "            <input name=\"name\">\n",
    "            <input type=\"submit\">\n",
    "        </form>\n",
    "    '''\n"
   ]
  },
  {
   "cell_type": "code",
   "execution_count": 7,
   "id": "50fce003-44b3-4379-a6e1-149c71508723",
   "metadata": {},
   "outputs": [],
   "source": [
    "# Q.7  How can you validate form data in Flask?\n",
    "from flask import Flask, request  \n",
    "app = Flask(__name__)  \n",
    "\n",
    "@app.route('/validate', methods=['POST'])  \n",
    "def validate():  \n",
    "    email = request.form.get('email')  \n",
    "    if not email:  \n",
    "        return \"Email is required\", 400  \n",
    "    return f\"Email: {email}\"\n"
   ]
  },
  {
   "cell_type": "code",
   "execution_count": 8,
   "id": "c6bdd545-f17a-4ad1-81ef-182e43080620",
   "metadata": {},
   "outputs": [],
   "source": [
    "# Q.8  How do you manage sessions in Flask?\n",
    "from flask import Flask, session  \n",
    "app = Flask(__name__)  \n",
    "app.secret_key = 'mysecretkey'  # Required for session\n",
    "\n",
    "@app.route('/login')  \n",
    "def login():  \n",
    "    session['user'] = 'Alice'  \n",
    "    return \"User logged in\"\n",
    "\n",
    "@app.route('/profile')  \n",
    "def profile():  \n",
    "    user = session.get('user')  \n",
    "    return f\"Welcome {user}\"\n"
   ]
  },
  {
   "cell_type": "code",
   "execution_count": 9,
   "id": "062cfcb2-4964-417a-ad1b-f6b4c1544b07",
   "metadata": {},
   "outputs": [],
   "source": [
    "# Q.9  How do you redirect to a different route in Flask?\n",
    "from flask import Flask, redirect, url_for  \n",
    "app = Flask(__name__)  \n",
    "\n",
    "@app.route('/old')  \n",
    "def old():  \n",
    "    return redirect(url_for('new'))  # Redirects to /new\n",
    "\n",
    "@app.route('/new')  \n",
    "def new():  \n",
    "    return \"You are now on the new page\"\n"
   ]
  },
  {
   "cell_type": "code",
   "execution_count": 10,
   "id": "c947c9f3-1ff7-4b0b-b004-30820e4fc3b9",
   "metadata": {},
   "outputs": [],
   "source": [
    "# Q.10  How do you handle errors like 404 in Flask?\n",
    "from flask import Flask  \n",
    "app = Flask(__name__)  \n",
    "\n",
    "@app.errorhandler(404)  \n",
    "def page_not_found(e):  \n",
    "    return \"404 - Page Not Found\", 404\n"
   ]
  },
  {
   "cell_type": "code",
   "execution_count": 11,
   "id": "301406e9-3789-415a-a535-b90b3de65183",
   "metadata": {},
   "outputs": [],
   "source": [
    "# Q.11  How do you structure a Flask app using Blueprints?\n",
    "from flask import Flask, Blueprint  \n",
    "\n",
    "admin_bp = Blueprint('admin', __name__)  \n",
    "\n",
    "@admin_bp.route('/dashboard')  \n",
    "def dashboard():  \n",
    "    return \"Admin Dashboard\"\n",
    "\n",
    "app = Flask(__name__)  \n",
    "app.register_blueprint(admin_bp, url_prefix='/admin')  # Access via /admin/dashboard\n"
   ]
  },
  {
   "cell_type": "code",
   "execution_count": 12,
   "id": "fb1be587-e586-4b03-aabf-772ba1a35fca",
   "metadata": {},
   "outputs": [],
   "source": [
    "# Q.12  How do you define a custom Jinja filter in Flask?\n",
    "from flask import Flask  \n",
    "app = Flask(__name__)  \n",
    "\n",
    "@app.template_filter('reverse')  \n",
    "def reverse_filter(s):  \n",
    "    return s[::-1]  # Use in template: {{ \"hello\" | reverse }} → \"olleh\"\n"
   ]
  },
  {
   "cell_type": "code",
   "execution_count": 13,
   "id": "86273054-d510-4f40-b79a-51c1f47afe0f",
   "metadata": {},
   "outputs": [],
   "source": [
    "# Q.13  How can you redirect with query parameters in Flask?\n",
    "from flask import Flask, request, redirect, url_for  \n",
    "app = Flask(__name__)  \n",
    "\n",
    "@app.route('/search')  \n",
    "def search():  \n",
    "    return redirect(url_for('results', q='flask'))  # Redirects with ?q=flask\n",
    "\n",
    "@app.route('/results')  \n",
    "def results():  \n",
    "    query = request.args.get('q')  \n",
    "    return f\"Search results for: {query}\"\n"
   ]
  },
  {
   "cell_type": "code",
   "execution_count": 14,
   "id": "8ba7bb42-5170-406b-a47f-a4c60e1e3e69",
   "metadata": {},
   "outputs": [],
   "source": [
    "# Q.14  How do you return JSON responses in Flask?\n",
    "from flask import Flask, jsonify  \n",
    "app = Flask(__name__)  \n",
    "\n",
    "@app.route('/api/data')  \n",
    "def api_data():  \n",
    "    return jsonify({\"message\": \"Success\", \"framework\": \"Flask\"})\n"
   ]
  },
  {
   "cell_type": "code",
   "execution_count": 15,
   "id": "8437143d-ede0-46dd-8753-3c3d2c1c4fdf",
   "metadata": {},
   "outputs": [],
   "source": [
    "# Q.15  How do you capture URL parameters in Flask?\n",
    "from flask import Flask  \n",
    "app = Flask(__name__)  \n",
    "\n",
    "@app.route('/user/<username>')  \n",
    "def user_profile(username):  \n",
    "    return f\"Welcome, {username}\"  # URL: /user/john → \"Welcome, john\"\n"
   ]
  },
  {
   "cell_type": "code",
   "execution_count": null,
   "id": "a6991f48-28dc-43ff-9cee-f0c0f05e92ba",
   "metadata": {},
   "outputs": [],
   "source": [
    "`"
   ]
  }
 ],
 "metadata": {
  "kernelspec": {
   "display_name": "Python 3 (ipykernel)",
   "language": "python",
   "name": "python3"
  },
  "language_info": {
   "codemirror_mode": {
    "name": "ipython",
    "version": 3
   },
   "file_extension": ".py",
   "mimetype": "text/x-python",
   "name": "python",
   "nbconvert_exporter": "python",
   "pygments_lexer": "ipython3",
   "version": "3.12.7"
  },
  "panel-cell-order": [
   "d118492d-680d-4c97-adec-49454aa09a9f"
  ]
 },
 "nbformat": 4,
 "nbformat_minor": 5
}
